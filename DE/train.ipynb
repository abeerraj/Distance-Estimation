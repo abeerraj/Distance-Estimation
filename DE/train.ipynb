{
  "nbformat": 4,
  "nbformat_minor": 0,
  "metadata": {
    "colab": {
      "name": "main.ipynb",
      "provenance": []
    },
    "kernelspec": {
      "name": "python3",
      "display_name": "Python 3"
    },
    "accelerator": "GPU"
  },
  "cells": [
    {
      "cell_type": "code",
      "metadata": {
        "id": "gGocgOS4sB8K",
        "colab_type": "code",
        "colab": {}
      },
      "source": [
        "import torch\n",
        "from torch.autograd import Variable\n",
        "import torch.nn.functional as F\n",
        "import torch.utils.data as Data\n",
        "import matplotlib.pyplot as plt\n",
        "#%matplotlib inline\n",
        "\n",
        "import math \n",
        "import numpy as np\n",
        "import pandas as pd\n",
        "import imageio\n",
        "from sklearn.utils import shuffle\n"
      ],
      "execution_count": 0,
      "outputs": []
    },
    {
      "cell_type": "code",
      "metadata": {
        "id": "8Dpru1K5sN4J",
        "colab_type": "code",
        "colab": {}
      },
      "source": [
        "FRAME_WIDTH = 640\n",
        "FRAME_HEIGHT = 480\n",
        "FRAME_DIAGONAL = math.sqrt(FRAME_WIDTH ** 2 + FRAME_HEIGHT ** 2 )"
      ],
      "execution_count": 0,
      "outputs": []
    },
    {
      "cell_type": "code",
      "metadata": {
        "id": "qFJxWUlksZUJ",
        "colab_type": "code",
        "colab": {
          "base_uri": "https://localhost:8080/",
          "height": 254
        },
        "outputId": "6bab760a-682e-4f3e-f19e-110966cb4200"
      },
      "source": [
        "dataframe = pd.read_csv(\"sub1_3-8.csv\")\n",
        "print(\"Shape of dataset = \", dataframe.shape)\n",
        "print(\"No of feature vectors in  dataset = \", dataframe.shape[0])\n",
        "print(\"Shape of columns in dataset = \", dataframe.shape[1])\n",
        "dataframe.head()"
      ],
      "execution_count": 60,
      "outputs": [
        {
          "output_type": "stream",
          "text": [
            "Shape of dataset =  (9967, 7)\n",
            "No of feature vectors in  dataset =  9967\n",
            "Shape of columns in dataset =  7\n"
          ],
          "name": "stdout"
        },
        {
          "output_type": "execute_result",
          "data": {
            "text/html": [
              "<div>\n",
              "<style scoped>\n",
              "    .dataframe tbody tr th:only-of-type {\n",
              "        vertical-align: middle;\n",
              "    }\n",
              "\n",
              "    .dataframe tbody tr th {\n",
              "        vertical-align: top;\n",
              "    }\n",
              "\n",
              "    .dataframe thead th {\n",
              "        text-align: right;\n",
              "    }\n",
              "</style>\n",
              "<table border=\"1\" class=\"dataframe\">\n",
              "  <thead>\n",
              "    <tr style=\"text-align: right;\">\n",
              "      <th></th>\n",
              "      <th>x</th>\n",
              "      <th>y</th>\n",
              "      <th>h</th>\n",
              "      <th>w</th>\n",
              "      <th>c_x</th>\n",
              "      <th>c_y</th>\n",
              "      <th>class</th>\n",
              "    </tr>\n",
              "  </thead>\n",
              "  <tbody>\n",
              "    <tr>\n",
              "      <th>0</th>\n",
              "      <td>301.44717</td>\n",
              "      <td>17.780270</td>\n",
              "      <td>465.00500</td>\n",
              "      <td>144.31918</td>\n",
              "      <td>373</td>\n",
              "      <td>250</td>\n",
              "      <td>3</td>\n",
              "    </tr>\n",
              "    <tr>\n",
              "      <th>1</th>\n",
              "      <td>302.80048</td>\n",
              "      <td>18.843270</td>\n",
              "      <td>461.93546</td>\n",
              "      <td>141.28949</td>\n",
              "      <td>373</td>\n",
              "      <td>249</td>\n",
              "      <td>3</td>\n",
              "    </tr>\n",
              "    <tr>\n",
              "      <th>2</th>\n",
              "      <td>301.75473</td>\n",
              "      <td>17.740875</td>\n",
              "      <td>464.02628</td>\n",
              "      <td>143.35468</td>\n",
              "      <td>373</td>\n",
              "      <td>249</td>\n",
              "      <td>3</td>\n",
              "    </tr>\n",
              "    <tr>\n",
              "      <th>3</th>\n",
              "      <td>302.46655</td>\n",
              "      <td>17.484642</td>\n",
              "      <td>464.16852</td>\n",
              "      <td>142.98602</td>\n",
              "      <td>373</td>\n",
              "      <td>249</td>\n",
              "      <td>3</td>\n",
              "    </tr>\n",
              "    <tr>\n",
              "      <th>4</th>\n",
              "      <td>303.04156</td>\n",
              "      <td>16.914768</td>\n",
              "      <td>464.52830</td>\n",
              "      <td>141.69748</td>\n",
              "      <td>373</td>\n",
              "      <td>249</td>\n",
              "      <td>3</td>\n",
              "    </tr>\n",
              "  </tbody>\n",
              "</table>\n",
              "</div>"
            ],
            "text/plain": [
              "           x          y          h          w  c_x  c_y  class\n",
              "0  301.44717  17.780270  465.00500  144.31918  373  250      3\n",
              "1  302.80048  18.843270  461.93546  141.28949  373  249      3\n",
              "2  301.75473  17.740875  464.02628  143.35468  373  249      3\n",
              "3  302.46655  17.484642  464.16852  142.98602  373  249      3\n",
              "4  303.04156  16.914768  464.52830  141.69748  373  249      3"
            ]
          },
          "metadata": {
            "tags": []
          },
          "execution_count": 60
        }
      ]
    },
    {
      "cell_type": "code",
      "metadata": {
        "id": "lLKCLcynsZ57",
        "colab_type": "code",
        "colab": {
          "base_uri": "https://localhost:8080/",
          "height": 202
        },
        "outputId": "c852ebb1-0700-400d-d92d-7ecfc60a242f"
      },
      "source": [
        "dataframe_shuffled = shuffle(dataset)\n",
        "dataframe_shuffled.head()"
      ],
      "execution_count": 61,
      "outputs": [
        {
          "output_type": "execute_result",
          "data": {
            "text/html": [
              "<div>\n",
              "<style scoped>\n",
              "    .dataframe tbody tr th:only-of-type {\n",
              "        vertical-align: middle;\n",
              "    }\n",
              "\n",
              "    .dataframe tbody tr th {\n",
              "        vertical-align: top;\n",
              "    }\n",
              "\n",
              "    .dataframe thead th {\n",
              "        text-align: right;\n",
              "    }\n",
              "</style>\n",
              "<table border=\"1\" class=\"dataframe\">\n",
              "  <thead>\n",
              "    <tr style=\"text-align: right;\">\n",
              "      <th></th>\n",
              "      <th>x</th>\n",
              "      <th>y</th>\n",
              "      <th>h</th>\n",
              "      <th>w</th>\n",
              "      <th>c_x</th>\n",
              "      <th>c_y</th>\n",
              "      <th>class</th>\n",
              "    </tr>\n",
              "  </thead>\n",
              "  <tbody>\n",
              "    <tr>\n",
              "      <th>3009</th>\n",
              "      <td>277.43375</td>\n",
              "      <td>4.733419</td>\n",
              "      <td>463.98290</td>\n",
              "      <td>140.05234</td>\n",
              "      <td>347</td>\n",
              "      <td>236</td>\n",
              "      <td>3</td>\n",
              "    </tr>\n",
              "    <tr>\n",
              "      <th>2878</th>\n",
              "      <td>278.65290</td>\n",
              "      <td>18.760185</td>\n",
              "      <td>452.75510</td>\n",
              "      <td>139.74560</td>\n",
              "      <td>348</td>\n",
              "      <td>245</td>\n",
              "      <td>3</td>\n",
              "    </tr>\n",
              "    <tr>\n",
              "      <th>1197</th>\n",
              "      <td>278.12857</td>\n",
              "      <td>9.396415</td>\n",
              "      <td>459.56723</td>\n",
              "      <td>142.07193</td>\n",
              "      <td>349</td>\n",
              "      <td>239</td>\n",
              "      <td>3</td>\n",
              "    </tr>\n",
              "    <tr>\n",
              "      <th>6427</th>\n",
              "      <td>296.04227</td>\n",
              "      <td>36.252280</td>\n",
              "      <td>297.81424</td>\n",
              "      <td>104.87421</td>\n",
              "      <td>348</td>\n",
              "      <td>185</td>\n",
              "      <td>6</td>\n",
              "    </tr>\n",
              "    <tr>\n",
              "      <th>9919</th>\n",
              "      <td>334.98895</td>\n",
              "      <td>47.475616</td>\n",
              "      <td>215.25357</td>\n",
              "      <td>75.53912</td>\n",
              "      <td>372</td>\n",
              "      <td>155</td>\n",
              "      <td>8</td>\n",
              "    </tr>\n",
              "  </tbody>\n",
              "</table>\n",
              "</div>"
            ],
            "text/plain": [
              "              x          y          h          w  c_x  c_y  class\n",
              "3009  277.43375   4.733419  463.98290  140.05234  347  236      3\n",
              "2878  278.65290  18.760185  452.75510  139.74560  348  245      3\n",
              "1197  278.12857   9.396415  459.56723  142.07193  349  239      3\n",
              "6427  296.04227  36.252280  297.81424  104.87421  348  185      6\n",
              "9919  334.98895  47.475616  215.25357   75.53912  372  155      8"
            ]
          },
          "metadata": {
            "tags": []
          },
          "execution_count": 61
        }
      ]
    },
    {
      "cell_type": "code",
      "metadata": {
        "id": "a15TzIWRzDk7",
        "colab_type": "code",
        "colab": {
          "base_uri": "https://localhost:8080/",
          "height": 202
        },
        "outputId": "3fbc14fd-82c1-432f-b8c7-3f5c0e131894"
      },
      "source": [
        "train_set = dataframe_shuffled.sample(frac=0.80, random_state=0)\n",
        "test_set = dataframe_shuffled.drop(train_set.index)\n",
        "train_set.head()"
      ],
      "execution_count": 62,
      "outputs": [
        {
          "output_type": "execute_result",
          "data": {
            "text/html": [
              "<div>\n",
              "<style scoped>\n",
              "    .dataframe tbody tr th:only-of-type {\n",
              "        vertical-align: middle;\n",
              "    }\n",
              "\n",
              "    .dataframe tbody tr th {\n",
              "        vertical-align: top;\n",
              "    }\n",
              "\n",
              "    .dataframe thead th {\n",
              "        text-align: right;\n",
              "    }\n",
              "</style>\n",
              "<table border=\"1\" class=\"dataframe\">\n",
              "  <thead>\n",
              "    <tr style=\"text-align: right;\">\n",
              "      <th></th>\n",
              "      <th>x</th>\n",
              "      <th>y</th>\n",
              "      <th>h</th>\n",
              "      <th>w</th>\n",
              "      <th>c_x</th>\n",
              "      <th>c_y</th>\n",
              "      <th>class</th>\n",
              "    </tr>\n",
              "  </thead>\n",
              "  <tbody>\n",
              "    <tr>\n",
              "      <th>5856</th>\n",
              "      <td>271.69812</td>\n",
              "      <td>22.739153</td>\n",
              "      <td>343.66116</td>\n",
              "      <td>124.986940</td>\n",
              "      <td>334</td>\n",
              "      <td>194</td>\n",
              "      <td>5</td>\n",
              "    </tr>\n",
              "    <tr>\n",
              "      <th>5067</th>\n",
              "      <td>281.20694</td>\n",
              "      <td>22.555676</td>\n",
              "      <td>364.60490</td>\n",
              "      <td>134.802150</td>\n",
              "      <td>348</td>\n",
              "      <td>204</td>\n",
              "      <td>5</td>\n",
              "    </tr>\n",
              "    <tr>\n",
              "      <th>607</th>\n",
              "      <td>303.76960</td>\n",
              "      <td>48.970383</td>\n",
              "      <td>434.77880</td>\n",
              "      <td>157.064210</td>\n",
              "      <td>382</td>\n",
              "      <td>266</td>\n",
              "      <td>3</td>\n",
              "    </tr>\n",
              "    <tr>\n",
              "      <th>6120</th>\n",
              "      <td>299.64032</td>\n",
              "      <td>28.671326</td>\n",
              "      <td>311.16230</td>\n",
              "      <td>111.012480</td>\n",
              "      <td>355</td>\n",
              "      <td>184</td>\n",
              "      <td>6</td>\n",
              "    </tr>\n",
              "    <tr>\n",
              "      <th>8162</th>\n",
              "      <td>320.98993</td>\n",
              "      <td>51.350483</td>\n",
              "      <td>227.93239</td>\n",
              "      <td>89.252625</td>\n",
              "      <td>365</td>\n",
              "      <td>165</td>\n",
              "      <td>7</td>\n",
              "    </tr>\n",
              "  </tbody>\n",
              "</table>\n",
              "</div>"
            ],
            "text/plain": [
              "              x          y          h           w  c_x  c_y  class\n",
              "5856  271.69812  22.739153  343.66116  124.986940  334  194      5\n",
              "5067  281.20694  22.555676  364.60490  134.802150  348  204      5\n",
              "607   303.76960  48.970383  434.77880  157.064210  382  266      3\n",
              "6120  299.64032  28.671326  311.16230  111.012480  355  184      6\n",
              "8162  320.98993  51.350483  227.93239   89.252625  365  165      7"
            ]
          },
          "metadata": {
            "tags": []
          },
          "execution_count": 62
        }
      ]
    },
    {
      "cell_type": "code",
      "metadata": {
        "id": "5NQOwnESv_JL",
        "colab_type": "code",
        "colab": {
          "base_uri": "https://localhost:8080/",
          "height": 87
        },
        "outputId": "702e070b-4c36-4d85-f4fd-93e85c3cc4e8"
      },
      "source": [
        "dataframe_y_train = train_set['class']\n",
        "dataframe_x_train = train_set[['h','w']]\n",
        "dataframe_y_test = test_set['class']\n",
        "dataframe_x_test = test_set[['h','w']]\n",
        "print(\"Size of dataframe_y_train is {}\" .format(dataframe_y_train.shape ))\n",
        "print(\"Size of dataframe_x_train is {}\" .format(dataframe_x_train.shape ))\n",
        "print(\"Size of dataframe_y_test is {}\" .format(dataframe_y_test.shape ))\n",
        "print(\"Size of dataframe_x_test is {}\" .format(dataframe_x_test.shape ))"
      ],
      "execution_count": 64,
      "outputs": [
        {
          "output_type": "stream",
          "text": [
            "Size of dataframe_y_train is (7974,)\n",
            "Size of dataframe_x_train is (7974, 2)\n",
            "Size of dataframe_y_test is (1993,)\n",
            "Size of dataframe_x_test is (1993, 2)\n"
          ],
          "name": "stdout"
        }
      ]
    },
    {
      "cell_type": "code",
      "metadata": {
        "id": "L2EykdBW19_J",
        "colab_type": "code",
        "colab": {
          "base_uri": "https://localhost:8080/",
          "height": 202
        },
        "outputId": "c2409286-994c-40c6-cae1-1b3dd2cd030e"
      },
      "source": [
        "dataset_x_train.head()"
      ],
      "execution_count": 65,
      "outputs": [
        {
          "output_type": "execute_result",
          "data": {
            "text/html": [
              "<div>\n",
              "<style scoped>\n",
              "    .dataframe tbody tr th:only-of-type {\n",
              "        vertical-align: middle;\n",
              "    }\n",
              "\n",
              "    .dataframe tbody tr th {\n",
              "        vertical-align: top;\n",
              "    }\n",
              "\n",
              "    .dataframe thead th {\n",
              "        text-align: right;\n",
              "    }\n",
              "</style>\n",
              "<table border=\"1\" class=\"dataframe\">\n",
              "  <thead>\n",
              "    <tr style=\"text-align: right;\">\n",
              "      <th></th>\n",
              "      <th>h</th>\n",
              "      <th>w</th>\n",
              "    </tr>\n",
              "  </thead>\n",
              "  <tbody>\n",
              "    <tr>\n",
              "      <th>3930</th>\n",
              "      <td>355.70538</td>\n",
              "      <td>123.22595</td>\n",
              "    </tr>\n",
              "    <tr>\n",
              "      <th>5936</th>\n",
              "      <td>343.15317</td>\n",
              "      <td>125.57001</td>\n",
              "    </tr>\n",
              "    <tr>\n",
              "      <th>5591</th>\n",
              "      <td>335.59488</td>\n",
              "      <td>124.62848</td>\n",
              "    </tr>\n",
              "    <tr>\n",
              "      <th>5012</th>\n",
              "      <td>361.12480</td>\n",
              "      <td>127.15378</td>\n",
              "    </tr>\n",
              "    <tr>\n",
              "      <th>5148</th>\n",
              "      <td>366.80295</td>\n",
              "      <td>135.95267</td>\n",
              "    </tr>\n",
              "  </tbody>\n",
              "</table>\n",
              "</div>"
            ],
            "text/plain": [
              "              h          w\n",
              "3930  355.70538  123.22595\n",
              "5936  343.15317  125.57001\n",
              "5591  335.59488  124.62848\n",
              "5012  361.12480  127.15378\n",
              "5148  366.80295  135.95267"
            ]
          },
          "metadata": {
            "tags": []
          },
          "execution_count": 65
        }
      ]
    },
    {
      "cell_type": "code",
      "metadata": {
        "id": "Ezvnzikq1RvD",
        "colab_type": "code",
        "colab": {}
      },
      "source": [
        "def add_diag(df):\n",
        "  modified_dataframe = pd.DataFrame()\n",
        "  modified_dataframe['height'] = 1/(df['h']/FRAME_HEIGHT)\n",
        "  modified_dataframe['width'] = 1/(df['w']/FRAME_WIDTH)\n",
        "  modified_dataframe['diagonal'] = 1/(((df['h'] ** 2 + df['w'] ** 2) ** (1/2))/FRAME_DIAGONAL) # + dataset_x_train['w']** 2)\n",
        "  print(modified_dataframe.head())\n",
        "  return modified_dataframe"
      ],
      "execution_count": 0,
      "outputs": []
    },
    {
      "cell_type": "code",
      "metadata": {
        "id": "MGQ1HbavNIKl",
        "colab_type": "code",
        "colab": {}
      },
      "source": [
        "modified_dataframe_x_train = add_diag(dataframe_x_train)\n",
        "modified_dataframe_x_test = add_diag(dataframe_x_test)"
      ],
      "execution_count": 0,
      "outputs": []
    },
    {
      "cell_type": "code",
      "metadata": {
        "id": "XBqnnWolwIUI",
        "colab_type": "code",
        "colab": {
          "base_uri": "https://localhost:8080/",
          "height": 139
        },
        "outputId": "8494e916-146b-4c5c-d277-795e3be94def"
      },
      "source": [
        "tensor_x_train = torch.tensor(modified_dataframe_x_train.values)\n",
        "tensor_x_test = torch.tensor(modified_dataframe_x_test.values)\n",
        "tensor_y_train = torch.tensor(dataframe_y_train.values)\n",
        "tensor_y_test = torch.tensor(dataframe_y_test.values)\n",
        "print(tensor_x_train)"
      ],
      "execution_count": 75,
      "outputs": [
        {
          "output_type": "stream",
          "text": [
            "tensor([[1.3967, 5.1205, 2.1877],\n",
            "        [1.3165, 4.7477, 2.0580],\n",
            "        [1.1040, 4.0748, 1.7306],\n",
            "        ...,\n",
            "        [1.5426, 5.8625, 2.4260],\n",
            "        [1.3204, 5.0059, 2.0761],\n",
            "        [1.3260, 5.1509, 2.0903]], dtype=torch.float64)\n"
          ],
          "name": "stdout"
        }
      ]
    },
    {
      "cell_type": "code",
      "metadata": {
        "id": "vKWbHdFF0OwJ",
        "colab_type": "code",
        "colab": {}
      },
      "source": [
        ""
      ],
      "execution_count": 0,
      "outputs": []
    }
  ]
}